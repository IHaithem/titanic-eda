{
 "cells": [
  {
   "cell_type": "markdown",
   "id": "610bf02b",
   "metadata": {},
   "source": [
    "## Task 2: Exploratory Data Analysis on Titanic Dataset"
   ]
  },
  {
   "cell_type": "markdown",
   "id": "7b01c23d",
   "metadata": {},
   "source": [
    "### Step 1: Setup & Load the Titanic Dataset"
   ]
  },
  {
   "cell_type": "code",
   "execution_count": 10,
   "id": "03b018bd",
   "metadata": {},
   "outputs": [
    {
     "data": {
      "text/html": [
       "<div>\n",
       "<style scoped>\n",
       "    .dataframe tbody tr th:only-of-type {\n",
       "        vertical-align: middle;\n",
       "    }\n",
       "\n",
       "    .dataframe tbody tr th {\n",
       "        vertical-align: top;\n",
       "    }\n",
       "\n",
       "    .dataframe thead th {\n",
       "        text-align: right;\n",
       "    }\n",
       "</style>\n",
       "<table border=\"1\" class=\"dataframe\">\n",
       "  <thead>\n",
       "    <tr style=\"text-align: right;\">\n",
       "      <th></th>\n",
       "      <th>PassengerId</th>\n",
       "      <th>Survived</th>\n",
       "      <th>Pclass</th>\n",
       "      <th>Name</th>\n",
       "      <th>Sex</th>\n",
       "      <th>Age</th>\n",
       "      <th>SibSp</th>\n",
       "      <th>Parch</th>\n",
       "      <th>Ticket</th>\n",
       "      <th>Fare</th>\n",
       "      <th>Cabin</th>\n",
       "      <th>Embarked</th>\n",
       "    </tr>\n",
       "  </thead>\n",
       "  <tbody>\n",
       "    <tr>\n",
       "      <th>0</th>\n",
       "      <td>1</td>\n",
       "      <td>0</td>\n",
       "      <td>3</td>\n",
       "      <td>Braund, Mr. Owen Harris</td>\n",
       "      <td>male</td>\n",
       "      <td>22.0</td>\n",
       "      <td>1</td>\n",
       "      <td>0</td>\n",
       "      <td>A/5 21171</td>\n",
       "      <td>7.2500</td>\n",
       "      <td>NaN</td>\n",
       "      <td>S</td>\n",
       "    </tr>\n",
       "    <tr>\n",
       "      <th>1</th>\n",
       "      <td>2</td>\n",
       "      <td>1</td>\n",
       "      <td>1</td>\n",
       "      <td>Cumings, Mrs. John Bradley (Florence Briggs Th...</td>\n",
       "      <td>female</td>\n",
       "      <td>38.0</td>\n",
       "      <td>1</td>\n",
       "      <td>0</td>\n",
       "      <td>PC 17599</td>\n",
       "      <td>71.2833</td>\n",
       "      <td>C85</td>\n",
       "      <td>C</td>\n",
       "    </tr>\n",
       "    <tr>\n",
       "      <th>2</th>\n",
       "      <td>3</td>\n",
       "      <td>1</td>\n",
       "      <td>3</td>\n",
       "      <td>Heikkinen, Miss. Laina</td>\n",
       "      <td>female</td>\n",
       "      <td>26.0</td>\n",
       "      <td>0</td>\n",
       "      <td>0</td>\n",
       "      <td>STON/O2. 3101282</td>\n",
       "      <td>7.9250</td>\n",
       "      <td>NaN</td>\n",
       "      <td>S</td>\n",
       "    </tr>\n",
       "    <tr>\n",
       "      <th>3</th>\n",
       "      <td>4</td>\n",
       "      <td>1</td>\n",
       "      <td>1</td>\n",
       "      <td>Futrelle, Mrs. Jacques Heath (Lily May Peel)</td>\n",
       "      <td>female</td>\n",
       "      <td>35.0</td>\n",
       "      <td>1</td>\n",
       "      <td>0</td>\n",
       "      <td>113803</td>\n",
       "      <td>53.1000</td>\n",
       "      <td>C123</td>\n",
       "      <td>S</td>\n",
       "    </tr>\n",
       "    <tr>\n",
       "      <th>4</th>\n",
       "      <td>5</td>\n",
       "      <td>0</td>\n",
       "      <td>3</td>\n",
       "      <td>Allen, Mr. William Henry</td>\n",
       "      <td>male</td>\n",
       "      <td>35.0</td>\n",
       "      <td>0</td>\n",
       "      <td>0</td>\n",
       "      <td>373450</td>\n",
       "      <td>8.0500</td>\n",
       "      <td>NaN</td>\n",
       "      <td>S</td>\n",
       "    </tr>\n",
       "  </tbody>\n",
       "</table>\n",
       "</div>"
      ],
      "text/plain": [
       "   PassengerId  Survived  Pclass  \\\n",
       "0            1         0       3   \n",
       "1            2         1       1   \n",
       "2            3         1       3   \n",
       "3            4         1       1   \n",
       "4            5         0       3   \n",
       "\n",
       "                                                Name     Sex   Age  SibSp  \\\n",
       "0                            Braund, Mr. Owen Harris    male  22.0      1   \n",
       "1  Cumings, Mrs. John Bradley (Florence Briggs Th...  female  38.0      1   \n",
       "2                             Heikkinen, Miss. Laina  female  26.0      0   \n",
       "3       Futrelle, Mrs. Jacques Heath (Lily May Peel)  female  35.0      1   \n",
       "4                           Allen, Mr. William Henry    male  35.0      0   \n",
       "\n",
       "   Parch            Ticket     Fare Cabin Embarked  \n",
       "0      0         A/5 21171   7.2500   NaN        S  \n",
       "1      0          PC 17599  71.2833   C85        C  \n",
       "2      0  STON/O2. 3101282   7.9250   NaN        S  \n",
       "3      0            113803  53.1000  C123        S  \n",
       "4      0            373450   8.0500   NaN        S  "
      ]
     },
     "execution_count": 10,
     "metadata": {},
     "output_type": "execute_result"
    }
   ],
   "source": [
    "import pandas as pd\n",
    "import seaborn as sns\n",
    "import matplotlib.pyplot as plt\n",
    "\n",
    "# Load the dataset \n",
    "titanic = pd.read_csv('train.csv')\n",
    "\n",
    "# display the first 5 rows\n",
    "titanic.head()\n"
   ]
  },
  {
   "cell_type": "markdown",
   "id": "352a277f",
   "metadata": {},
   "source": [
    "### 🧾 Column Overview from Kaggle Description\n",
    "\n",
    "After reviewing the Kaggle Titanic dataset documentation, here's a summary of the columns in `train.csv` and what they represent:\n",
    "\n",
    "| Column         | Description                                                                 |\n",
    "|----------------|-----------------------------------------------------------------------------|\n",
    "| `PassengerId`  | Unique identifier for each passenger                                        |\n",
    "| `Survived`     | Survival status (0 = No, 1 = Yes)                                           |\n",
    "| `Pclass`       | Ticket class (1 = 1st, 2 = 2nd, 3 = 3rd)                                    |\n",
    "| `Name`         | Full name of the passenger                                                  |\n",
    "| `Sex`          | Gender of the passenger (`male`, `female`)                                 |\n",
    "| `Age`          | Age in years (may contain missing values)                                  |\n",
    "| `SibSp`        | Number of siblings/spouses aboard the Titanic                              |\n",
    "| `Parch`        | Number of parents/children aboard the Titanic                              |\n",
    "| `Ticket`       | Ticket number                                                               |\n",
    "| `Fare`         | Passenger fare                                                              |\n",
    "| `Cabin`        | Cabin number (many missing values)                                          |\n",
    "| `Embarked`     | Port of embarkation (`C` = Cherbourg, `Q` = Queenstown, `S` = Southampton)  |\n",
    "\n",
    "These features will be explored and visualized to uncover patterns related to survival, class, age, and gender.\n"
   ]
  },
  {
   "cell_type": "markdown",
   "id": "972372e6",
   "metadata": {},
   "source": [
    "### Step 2: Initial Exploration"
   ]
  },
  {
   "cell_type": "code",
   "execution_count": null,
   "id": "400cf2bd",
   "metadata": {},
   "outputs": [
    {
     "name": "stdout",
     "output_type": "stream",
     "text": [
      "<class 'pandas.core.frame.DataFrame'>\n",
      "RangeIndex: 891 entries, 0 to 890\n",
      "Data columns (total 12 columns):\n",
      " #   Column       Non-Null Count  Dtype  \n",
      "---  ------       --------------  -----  \n",
      " 0   PassengerId  891 non-null    int64  \n",
      " 1   Survived     891 non-null    int64  \n",
      " 2   Pclass       891 non-null    int64  \n",
      " 3   Name         891 non-null    object \n",
      " 4   Sex          891 non-null    object \n",
      " 5   Age          714 non-null    float64\n",
      " 6   SibSp        891 non-null    int64  \n",
      " 7   Parch        891 non-null    int64  \n",
      " 8   Ticket       891 non-null    object \n",
      " 9   Fare         891 non-null    float64\n",
      " 10  Cabin        204 non-null    object \n",
      " 11  Embarked     889 non-null    object \n",
      "dtypes: float64(2), int64(5), object(5)\n",
      "memory usage: 83.7+ KB\n"
     ]
    }
   ],
   "source": [
    "# View basic structure and data types\n",
    "titanic.info()"
   ]
  },
  {
   "cell_type": "code",
   "execution_count": 4,
   "id": "63d9cc7d",
   "metadata": {},
   "outputs": [
    {
     "data": {
      "text/html": [
       "<div>\n",
       "<style scoped>\n",
       "    .dataframe tbody tr th:only-of-type {\n",
       "        vertical-align: middle;\n",
       "    }\n",
       "\n",
       "    .dataframe tbody tr th {\n",
       "        vertical-align: top;\n",
       "    }\n",
       "\n",
       "    .dataframe thead th {\n",
       "        text-align: right;\n",
       "    }\n",
       "</style>\n",
       "<table border=\"1\" class=\"dataframe\">\n",
       "  <thead>\n",
       "    <tr style=\"text-align: right;\">\n",
       "      <th></th>\n",
       "      <th>PassengerId</th>\n",
       "      <th>Survived</th>\n",
       "      <th>Pclass</th>\n",
       "      <th>Age</th>\n",
       "      <th>SibSp</th>\n",
       "      <th>Parch</th>\n",
       "      <th>Fare</th>\n",
       "    </tr>\n",
       "  </thead>\n",
       "  <tbody>\n",
       "    <tr>\n",
       "      <th>count</th>\n",
       "      <td>891.000000</td>\n",
       "      <td>891.000000</td>\n",
       "      <td>891.000000</td>\n",
       "      <td>714.000000</td>\n",
       "      <td>891.000000</td>\n",
       "      <td>891.000000</td>\n",
       "      <td>891.000000</td>\n",
       "    </tr>\n",
       "    <tr>\n",
       "      <th>mean</th>\n",
       "      <td>446.000000</td>\n",
       "      <td>0.383838</td>\n",
       "      <td>2.308642</td>\n",
       "      <td>29.699118</td>\n",
       "      <td>0.523008</td>\n",
       "      <td>0.381594</td>\n",
       "      <td>32.204208</td>\n",
       "    </tr>\n",
       "    <tr>\n",
       "      <th>std</th>\n",
       "      <td>257.353842</td>\n",
       "      <td>0.486592</td>\n",
       "      <td>0.836071</td>\n",
       "      <td>14.526497</td>\n",
       "      <td>1.102743</td>\n",
       "      <td>0.806057</td>\n",
       "      <td>49.693429</td>\n",
       "    </tr>\n",
       "    <tr>\n",
       "      <th>min</th>\n",
       "      <td>1.000000</td>\n",
       "      <td>0.000000</td>\n",
       "      <td>1.000000</td>\n",
       "      <td>0.420000</td>\n",
       "      <td>0.000000</td>\n",
       "      <td>0.000000</td>\n",
       "      <td>0.000000</td>\n",
       "    </tr>\n",
       "    <tr>\n",
       "      <th>25%</th>\n",
       "      <td>223.500000</td>\n",
       "      <td>0.000000</td>\n",
       "      <td>2.000000</td>\n",
       "      <td>20.125000</td>\n",
       "      <td>0.000000</td>\n",
       "      <td>0.000000</td>\n",
       "      <td>7.910400</td>\n",
       "    </tr>\n",
       "    <tr>\n",
       "      <th>50%</th>\n",
       "      <td>446.000000</td>\n",
       "      <td>0.000000</td>\n",
       "      <td>3.000000</td>\n",
       "      <td>28.000000</td>\n",
       "      <td>0.000000</td>\n",
       "      <td>0.000000</td>\n",
       "      <td>14.454200</td>\n",
       "    </tr>\n",
       "    <tr>\n",
       "      <th>75%</th>\n",
       "      <td>668.500000</td>\n",
       "      <td>1.000000</td>\n",
       "      <td>3.000000</td>\n",
       "      <td>38.000000</td>\n",
       "      <td>1.000000</td>\n",
       "      <td>0.000000</td>\n",
       "      <td>31.000000</td>\n",
       "    </tr>\n",
       "    <tr>\n",
       "      <th>max</th>\n",
       "      <td>891.000000</td>\n",
       "      <td>1.000000</td>\n",
       "      <td>3.000000</td>\n",
       "      <td>80.000000</td>\n",
       "      <td>8.000000</td>\n",
       "      <td>6.000000</td>\n",
       "      <td>512.329200</td>\n",
       "    </tr>\n",
       "  </tbody>\n",
       "</table>\n",
       "</div>"
      ],
      "text/plain": [
       "       PassengerId    Survived      Pclass         Age       SibSp  \\\n",
       "count   891.000000  891.000000  891.000000  714.000000  891.000000   \n",
       "mean    446.000000    0.383838    2.308642   29.699118    0.523008   \n",
       "std     257.353842    0.486592    0.836071   14.526497    1.102743   \n",
       "min       1.000000    0.000000    1.000000    0.420000    0.000000   \n",
       "25%     223.500000    0.000000    2.000000   20.125000    0.000000   \n",
       "50%     446.000000    0.000000    3.000000   28.000000    0.000000   \n",
       "75%     668.500000    1.000000    3.000000   38.000000    1.000000   \n",
       "max     891.000000    1.000000    3.000000   80.000000    8.000000   \n",
       "\n",
       "            Parch        Fare  \n",
       "count  891.000000  891.000000  \n",
       "mean     0.381594   32.204208  \n",
       "std      0.806057   49.693429  \n",
       "min      0.000000    0.000000  \n",
       "25%      0.000000    7.910400  \n",
       "50%      0.000000   14.454200  \n",
       "75%      0.000000   31.000000  \n",
       "max      6.000000  512.329200  "
      ]
     },
     "execution_count": 4,
     "metadata": {},
     "output_type": "execute_result"
    }
   ],
   "source": [
    "# Summary statistics for numerical columns\n",
    "titanic.describe()"
   ]
  },
  {
   "cell_type": "code",
   "execution_count": 5,
   "id": "79cf4e04",
   "metadata": {},
   "outputs": [
    {
     "data": {
      "text/plain": [
       "PassengerId      0\n",
       "Survived         0\n",
       "Pclass           0\n",
       "Name             0\n",
       "Sex              0\n",
       "Age            177\n",
       "SibSp            0\n",
       "Parch            0\n",
       "Ticket           0\n",
       "Fare             0\n",
       "Cabin          687\n",
       "Embarked         2\n",
       "dtype: int64"
      ]
     },
     "execution_count": 5,
     "metadata": {},
     "output_type": "execute_result"
    }
   ],
   "source": [
    "# Check for missing values across all columns\n",
    "titanic.isnull().sum()"
   ]
  },
  {
   "cell_type": "markdown",
   "id": "32292c9f",
   "metadata": {},
   "source": [
    "### 🔍 Step 2: Initial Exploration Summary\n",
    "\n",
    "After inspecting the dataset using `.info()`, `.describe()`, and `.isnull().sum()`, here are the key observations:\n",
    "\n",
    "#### 🧱 Data Structure\n",
    "- The dataset contains **891 rows** and **12 columns**.\n",
    "- Data types include:\n",
    "  - `int64`: PassengerId, Survived, Pclass, SibSp, Parch\n",
    "  - `float64`: Age, Fare\n",
    "  - `object`: Name, Sex, Ticket, Cabin, Embarked\n",
    "\n",
    "#### 📉 Missing Data\n",
    "- `Age`: 177 missing values (~20%)\n",
    "- `Cabin`: 687 missing values (~77%) — highly incomplete\n",
    "- `Embarked`: 2 missing values — minor\n",
    "- All other columns are complete.\n",
    "\n",
    "#### 📊 Summary Statistics\n",
    "- Average age: ~29.7 years, ranging from 0.42 to 80.\n",
    "- Fare varies widely, with a max of **512.33** and a median of **14.45**.\n",
    "- Most passengers traveled in **3rd class** (`Pclass` median = 3).\n",
    "- Majority had **no siblings/spouses or parents/children** aboard (`SibSp` and `Parch` medians = 0).\n",
    "\n",
    "These insights guide our next step: cleaning the data and handling missing values.\n"
   ]
  },
  {
   "cell_type": "markdown",
   "id": "03159189",
   "metadata": {},
   "source": [
    "### Step 3: Data Cleaning"
   ]
  },
  {
   "cell_type": "code",
   "execution_count": 11,
   "id": "8d1786fd",
   "metadata": {},
   "outputs": [
    {
     "name": "stderr",
     "output_type": "stream",
     "text": [
      "C:\\Users\\haithem0\\AppData\\Local\\Temp\\ipykernel_6420\\3750843756.py:2: FutureWarning: A value is trying to be set on a copy of a DataFrame or Series through chained assignment using an inplace method.\n",
      "The behavior will change in pandas 3.0. This inplace method will never work because the intermediate object on which we are setting values always behaves as a copy.\n",
      "\n",
      "For example, when doing 'df[col].method(value, inplace=True)', try using 'df.method({col: value}, inplace=True)' or df[col] = df[col].method(value) instead, to perform the operation inplace on the original object.\n",
      "\n",
      "\n",
      "  titanic['Age'].fillna(titanic['Age'].median(), inplace=True)\n",
      "C:\\Users\\haithem0\\AppData\\Local\\Temp\\ipykernel_6420\\3750843756.py:5: FutureWarning: A value is trying to be set on a copy of a DataFrame or Series through chained assignment using an inplace method.\n",
      "The behavior will change in pandas 3.0. This inplace method will never work because the intermediate object on which we are setting values always behaves as a copy.\n",
      "\n",
      "For example, when doing 'df[col].method(value, inplace=True)', try using 'df.method({col: value}, inplace=True)' or df[col] = df[col].method(value) instead, to perform the operation inplace on the original object.\n",
      "\n",
      "\n",
      "  titanic['Embarked'].fillna(titanic['Embarked'].mode()[0], inplace=True)\n"
     ]
    }
   ],
   "source": [
    "\n",
    "# Fill missing 'Age' values with median age\n",
    "titanic['Age'].fillna(titanic['Age'].median(), inplace=True)\n",
    "\n",
    "# Fill missing 'Embarked' values with mode (most common port)\n",
    "titanic['Embarked'].fillna(titanic['Embarked'].mode()[0], inplace=True)\n",
    "\n",
    "# Drop 'Cabin' column due to excessive missing data\n",
    "titanic.drop('Cabin', axis=1, inplace=True)"
   ]
  },
  {
   "cell_type": "code",
   "execution_count": 12,
   "id": "1b6acdb8",
   "metadata": {},
   "outputs": [
    {
     "data": {
      "text/plain": [
       "PassengerId    0\n",
       "Survived       0\n",
       "Pclass         0\n",
       "Name           0\n",
       "Sex            0\n",
       "Age            0\n",
       "SibSp          0\n",
       "Parch          0\n",
       "Ticket         0\n",
       "Fare           0\n",
       "Embarked       0\n",
       "dtype: int64"
      ]
     },
     "execution_count": 12,
     "metadata": {},
     "output_type": "execute_result"
    }
   ],
   "source": [
    "# Confirm changes\n",
    "titanic.isnull().sum()"
   ]
  },
  {
   "cell_type": "markdown",
   "id": "b924a870",
   "metadata": {},
   "source": [
    "### 🧹 Step 3: Data Cleaning Summary\n",
    "\n",
    "To prepare the dataset for analysis, the following cleaning steps were applied:\n",
    "\n",
    "- **Age**: 177 missing values filled using the median age (~28). This preserves central tendency without distortion from outliers.\n",
    "- **Embarked**: 2 missing values filled using the mode (`S` for Southampton), which is the most common embarkation point.\n",
    "- **Cabin**: Dropped due to excessive missing data (687 entries, ~77%), making it unreliable for analysis.\n",
    "- **Data Types**: No conversion was needed; all columns are in appropriate formats for exploratory analysis.\n",
    "\n",
    "After these steps, the dataset is free of missing values and ready for feature exploration.\n"
   ]
  },
  {
   "cell_type": "markdown",
   "id": "7dcdad2c",
   "metadata": {},
   "source": [
    "### Step 4: Feature Insights"
   ]
  },
  {
   "cell_type": "code",
   "execution_count": 13,
   "id": "14313083",
   "metadata": {},
   "outputs": [
    {
     "data": {
      "text/plain": [
       "Sex\n",
       "female    0.742038\n",
       "male      0.188908\n",
       "Name: Survived, dtype: float64"
      ]
     },
     "execution_count": 13,
     "metadata": {},
     "output_type": "execute_result"
    }
   ],
   "source": [
    "# Survival rate by gender\n",
    "titanic.groupby('Sex')['Survived'].mean()"
   ]
  },
  {
   "cell_type": "code",
   "execution_count": 14,
   "id": "427fbea2",
   "metadata": {},
   "outputs": [
    {
     "data": {
      "text/plain": [
       "Pclass\n",
       "1    0.629630\n",
       "2    0.472826\n",
       "3    0.242363\n",
       "Name: Survived, dtype: float64"
      ]
     },
     "execution_count": 14,
     "metadata": {},
     "output_type": "execute_result"
    }
   ],
   "source": [
    "# Survival rate by class\n",
    "titanic.groupby('Pclass')['Survived'].mean()"
   ]
  },
  {
   "cell_type": "code",
   "execution_count": 15,
   "id": "4a5244c1",
   "metadata": {},
   "outputs": [
    {
     "data": {
      "text/html": [
       "<div>\n",
       "<style scoped>\n",
       "    .dataframe tbody tr th:only-of-type {\n",
       "        vertical-align: middle;\n",
       "    }\n",
       "\n",
       "    .dataframe tbody tr th {\n",
       "        vertical-align: top;\n",
       "    }\n",
       "\n",
       "    .dataframe thead th {\n",
       "        text-align: right;\n",
       "    }\n",
       "</style>\n",
       "<table border=\"1\" class=\"dataframe\">\n",
       "  <thead>\n",
       "    <tr style=\"text-align: right;\">\n",
       "      <th>Pclass</th>\n",
       "      <th>1</th>\n",
       "      <th>2</th>\n",
       "      <th>3</th>\n",
       "    </tr>\n",
       "    <tr>\n",
       "      <th>Sex</th>\n",
       "      <th></th>\n",
       "      <th></th>\n",
       "      <th></th>\n",
       "    </tr>\n",
       "  </thead>\n",
       "  <tbody>\n",
       "    <tr>\n",
       "      <th>female</th>\n",
       "      <td>0.968085</td>\n",
       "      <td>0.921053</td>\n",
       "      <td>0.500000</td>\n",
       "    </tr>\n",
       "    <tr>\n",
       "      <th>male</th>\n",
       "      <td>0.368852</td>\n",
       "      <td>0.157407</td>\n",
       "      <td>0.135447</td>\n",
       "    </tr>\n",
       "  </tbody>\n",
       "</table>\n",
       "</div>"
      ],
      "text/plain": [
       "Pclass         1         2         3\n",
       "Sex                                 \n",
       "female  0.968085  0.921053  0.500000\n",
       "male    0.368852  0.157407  0.135447"
      ]
     },
     "execution_count": 15,
     "metadata": {},
     "output_type": "execute_result"
    }
   ],
   "source": [
    "# Combined survival rate by gender and class\n",
    "titanic.pivot_table(values='Survived', index='Sex', columns='Pclass')"
   ]
  },
  {
   "cell_type": "code",
   "execution_count": 17,
   "id": "c9bc9c7b",
   "metadata": {},
   "outputs": [
    {
     "name": "stderr",
     "output_type": "stream",
     "text": [
      "C:\\Users\\haithem0\\AppData\\Local\\Temp\\ipykernel_6420\\2441157675.py:6: FutureWarning: The default of observed=False is deprecated and will be changed to True in a future version of pandas. Pass observed=False to retain current behavior or observed=True to adopt the future default and silence this warning.\n",
      "  titanic.groupby('AgeGroup')['Survived'].mean()\n"
     ]
    },
    {
     "data": {
      "text/plain": [
       "AgeGroup\n",
       "Child          0.579710\n",
       "Teen           0.428571\n",
       "Young Adult    0.353271\n",
       "Adult          0.400000\n",
       "Senior         0.227273\n",
       "Name: Survived, dtype: float64"
      ]
     },
     "execution_count": 17,
     "metadata": {},
     "output_type": "execute_result"
    }
   ],
   "source": [
    "# Create age bins\n",
    "titanic['AgeGroup'] = pd.cut(titanic['Age'], bins=[0, 12, 18, 35, 60, 100], \n",
    "                             labels=['Child', 'Teen', 'Young Adult', 'Adult', 'Senior'])\n",
    "\n",
    "# Survival rate by age group\n",
    "titanic.groupby('AgeGroup')['Survived'].mean()\n"
   ]
  },
  {
   "cell_type": "markdown",
   "id": "a50f886c",
   "metadata": {},
   "source": [
    "### 📊 Step 4: Feature Insights Summary\n",
    "\n",
    "#### Survival by Gender\n",
    "- Females had a significantly higher survival rate than males.\n",
    "\n",
    "#### Survival by Class\n",
    "- Passengers in **1st class** had the highest survival rate.\n",
    "- Survival rates decreased with lower ticket class.\n",
    "\n",
    "#### Combined Gender & Class\n",
    "- **1st class females** had the highest survival rate overall.\n",
    "- **3rd class males** had the lowest.\n",
    "\n",
    "#### Survival by Age Group\n",
    "- **Children** had relatively high survival rates.\n",
    "- **Young adults and adults** showed lower survival.\n",
    "\n",
    "These insights suggest strong correlations between survival and demographic features like gender, class, and age.\n"
   ]
  },
  {
   "cell_type": "markdown",
   "id": "d9e476df",
   "metadata": {},
   "source": [
    "### Step 5: Data Visualization"
   ]
  },
  {
   "cell_type": "code",
   "execution_count": 20,
   "id": "6b1733d4",
   "metadata": {},
   "outputs": [
    {
     "data": {
      "image/png": "[encoded data removed]",
      "text/plain": [
       "<Figure size 640x480 with 1 Axes>"
      ]
     },
     "metadata": {},
     "output_type": "display_data"
    },
    {
     "data": {
      "image/png": "[encoded data removed]",
      "text/plain": [
       "<Figure size 640x480 with 1 Axes>"
      ]
     },
     "metadata": {},
     "output_type": "display_data"
    }
   ],
   "source": [
    "# Bar plot: Survival rate by gender\n",
    "sns.barplot(x='Sex', y='Survived', data=titanic)\n",
    "plt.title('Survival Rate by Gender')\n",
    "plt.ylabel('Survival Probability')\n",
    "plt.show()\n",
    "\n",
    "# Bar plot: Survival rate by class\n",
    "sns.barplot(x='Pclass', y='Survived', data=titanic)\n",
    "plt.title('Survival Rate by Passenger Class')\n",
    "plt.ylabel('Survival Probability')\n",
    "plt.show()\n"
   ]
  },
  {
   "cell_type": "code",
   "execution_count": 21,
   "id": "047b0e7e",
   "metadata": {},
   "outputs": [
    {
     "data": {
      "image/png": "[encoded data removed]",
      "text/plain": [
       "<Figure size 640x480 with 2 Axes>"
      ]
     },
     "metadata": {},
     "output_type": "display_data"
    }
   ],
   "source": [
    "# Pivot table for heatmap\n",
    "pivot = titanic.pivot_table(values='Survived', index='Sex', columns='Pclass')\n",
    "\n",
    "# Heatmap\n",
    "sns.heatmap(pivot, annot=True, cmap='Blues')\n",
    "plt.title('Survival Rate by Gender and Class')\n",
    "plt.show()\n"
   ]
  },
  {
   "cell_type": "code",
   "execution_count": 22,
   "id": "d103d800",
   "metadata": {},
   "outputs": [
    {
     "data": {
      "image/png": "[encoded data removed]",
      "text/plain": [
       "<Figure size 640x480 with 1 Axes>"
      ]
     },
     "metadata": {},
     "output_type": "display_data"
    }
   ],
   "source": [
    "# Histogram: Age distribution by survival\n",
    "sns.histplot(data=titanic, x='Age', hue='Survived', multiple='stack', bins=30)\n",
    "plt.title('Age Distribution by Survival')\n",
    "plt.show()\n"
   ]
  },
  {
   "cell_type": "markdown",
   "id": "8d3c5f71",
   "metadata": {},
   "source": [
    "### 📊 Step 5: Data Visualization Summary\n",
    "\n",
    "The following visualizations were created to explore survival patterns:\n",
    "\n",
    "- **Bar Plot (Gender)**: Females show a significantly higher survival rate than males.\n",
    "- **Bar Plot (Class)**: 1st class passengers had the highest survival probability.\n",
    "- **Heatmap (Gender × Class)**: The highest survival rate was among 1st class females; the lowest among 3rd class males.\n",
    "- **Histogram (Age × Survival)**: Children and younger passengers had higher survival rates.\n",
    "\n",
    "These visual patterns reinforce earlier statistical findings and highlight key demographic factors influencing survival.\n"
   ]
  },
  {
   "cell_type": "markdown",
   "id": "7d680906",
   "metadata": {},
   "source": [
    "## 🧾 Final Wrap-Up\n",
    "\n",
    "## Titanic Dataset: Exploratory Data Analysis Summary\n",
    "\n",
    "### 📊 Dataset Overview\n",
    "- Source: [Kaggle Titanic: Machine Learning from Disaster](https://www.kaggle.com/c/titanic)\n",
    "- Goal: Explore survival patterns and key features using Python\n",
    "\n",
    "### 🧹 Data Cleaning\n",
    "- Handled missing values in `Age`, `Cabin`, and `Embarked`\n",
    "- Converted data types for categorical features\n",
    "- Verified column formats and consistency\n",
    "\n",
    "### 📈 Summary Statistics & Group Insights\n",
    "- Calculated survival rates by gender and passenger class\n",
    "- Grouped data to identify patterns in age, fare, and embarkation\n",
    "\n",
    "### 🎨 Visualizations\n",
    "- **Bar Plots**: Survival by gender and class\n",
    "- **Heatmap**: Survival probability across gender × class combinations\n",
    "\n",
    "### 🎁 Bonus Completed\n",
    "- Visualized survival rates using both bar plots and heatmaps\n",
    "\n",
    "---"
   ]
  }
 ],
 "metadata": {
  "kernelspec": {
   "display_name": "Python 3",
   "language": "python",
   "name": "python3"
  },
  "language_info": {
   "codemirror_mode": {
    "name": "ipython",
    "version": 3
   },
   "file_extension": ".py",
   "mimetype": "text/x-python",
   "name": "python",
   "nbconvert_exporter": "python",
   "pygments_lexer": "ipython3",
   "version": "3.11.8"
  }
 },
 "nbformat": 4,
 "nbformat_minor": 5
}
